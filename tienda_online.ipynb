{
 "cells": [
  {
   "cell_type": "code",
   "execution_count": 17,
   "metadata": {},
   "outputs": [],
   "source": [
    "import re"
   ]
  },
  {
   "cell_type": "code",
   "execution_count": 18,
   "metadata": {},
   "outputs": [],
   "source": [
    "class Tiendaonline:\n",
    "\n",
    "    #Método constructor\n",
    "    def __init__(self): \n",
    "\n",
    "        self.inventario = [] #{[nombre, precio, cantidad]}\n",
    "        self.clientes = {}  #{{'Cliente1': {'email': 'cliente1@email.com', 'compras': []},}\n",
    "        self.ventas_totales = 0.0 \n",
    "\n",
    "    def agregar_producto(self, nombre, precio, cantidad):\n",
    "        for producto in self.inventario:\n",
    "            if producto['nombre'] ==  nombre:\n",
    "                producto['cantidad'] += cantidad\n",
    "                print(f'La cantidad y el precio de {nombre} se ha actualizado correctamente')\n",
    "                print(f'El inventario actual es: {self.inventario}')\n",
    "                break  # Se rompe el bucle, ya se ha actualizado el producto\n",
    "        \n",
    "        else:  #Se ejecuta si el producto no existe\n",
    "            nuevo_producto = {'nombre': nombre, 'precio': precio, 'cantidad': cantidad}\n",
    "            self.inventario.append(nuevo_producto)\n",
    "            print(f\"El producto '{nombre}' se ha agregado al inventario con éxito.\")\n",
    "            print(f'El inventario actual es: {self.inventario}')\n",
    "    \n",
    "    def ver_inventario(self):\n",
    "\n",
    "        for producto in self.inventario:\n",
    "            print(f\"Nombre: {producto['nombre']}, Precio: {producto['precio']}$, Cantidad: {producto['cantidad']}\")\n",
    "    \n",
    "    def buscar_producto(self, nombre):\n",
    "\n",
    "        for producto in self.inventario:\n",
    "            if producto['nombre'] == nombre:\n",
    "                print(f\"Nombre: {producto['nombre']}, Precio: {producto['precio']}€, Cantidad: {producto['cantidad']}\")\n",
    "                break\n",
    "        else:\n",
    "            print(f'{nombre} no se encuentra en el inventario')\n",
    "\n",
    "    def actualizar_stock(self, nombre, cantidad):\n",
    "\n",
    "        for producto in self.inventario:\n",
    "              \n",
    "            if producto['nombre'] ==  nombre:\n",
    "                producto['cantidad'] += cantidad\n",
    "                print(f'Se ha actualizado correctamente. La nueva cantidad de {nombre} es {cantidad}')\n",
    "                print(f'El inventario actual es: {self.inventario}')\n",
    "                break  \n",
    "        else:\n",
    "            print(f'{nombre} no se encuentra en el inventario')\n",
    "    \n",
    "    def eliminar_producto(self, nombre):\n",
    "\n",
    "        for producto in self.inventario:\n",
    "            if producto['nombre'] ==  nombre:\n",
    "                self.inventario.remove(producto)\n",
    "                print(f'El producto {nombre} se ha eliminado correctamente')\n",
    "                break\n",
    "        else:\n",
    "            print(f'El producto {nombre} no se encuentra en el inventario')\n",
    "    \n",
    "    def calcular_valor_inventario(self):\n",
    "\n",
    "        valor_total = 0\n",
    "        for producto in self.inventario:\n",
    "            valor_total += producto['precio'] * producto['cantidad']\n",
    "        print(f\"Valor total del inventario: {valor_total}$\")\n",
    "    \n",
    "    def buscar_producto_regex(self, patron):\n",
    "        \n",
    "        productos_patron = [] #Productos encontrados\n",
    "        for producto in self.inventario:\n",
    "            coincidencias = re.findall(patron, producto['nombre'])\n",
    "            if coincidencias:\n",
    "                productos_patron.append(producto) \n",
    "        \n",
    "        for producto in productos_patron: #utilizo un bucle for para imprimir los productos encontados\n",
    "            print(f\"Nombre: {producto['nombre']}, Precio: {producto['precio']}$, Cantidad: {producto['cantidad']}\")\n",
    "\n",
    "    def realizar_compra(self):\n",
    "        carrito = []\n",
    "        total_compra = 0.0\n",
    "        while True:\n",
    "            \n",
    "            producto_usuario = input(f'Elige entre estos productos {self.inventario} o escribe salir para dejar de comprar').lower()\n",
    "\n",
    "            if producto_usuario.lower() == 'salir':\n",
    "                break\n",
    "            \n",
    "            #comprobamos si el producto esta en el inventario\n",
    "            else:\n",
    "                for producto in self.inventario:\n",
    "                    if producto[\"nombre\"].lower() == producto_usuario.lower() and producto[\"cantidad\"] > 0:\n",
    "                        producto_en_inventario = producto\n",
    "                        break\n",
    "\n",
    "        #Si está, entonces pregunto por cuantas unicdades y comprobamos si hay suficiente: \n",
    "                if producto_en_inventario:\n",
    "                    unidades_usuario = int(input(f\"Cuantas unidades de {producto_en_inventario['nombre']} necesitas?: \"))\n",
    "                    if unidades_usuario <= producto_en_inventario[\"cantidad\"]:\n",
    "                        carrito.append({ 'nombre': producto_en_inventario['nombre'], 'precio': producto_en_inventario['precio'], 'cantidad': unidades_usuario})\n",
    "                        #Se eliminan las unidades del carrito. \n",
    "                        producto_en_inventario[\"cantidad\"] -= unidades_usuario\n",
    "                        total_compra += producto_en_inventario[\"precio\"] * unidades_usuario\n",
    "                        print(f\"Se han añadido {unidades_usuario} unidades de {producto_en_inventario['nombre']} al carrito\")\n",
    "                        \n",
    "                    else:\n",
    "                        #No tenemos suficiente stock\n",
    "                        print(f\"No hay suficientes unidades disponibles de {producto_en_inventario['nombre']} en el inventario\")\n",
    "                else:\n",
    "                    #si no existe. \n",
    "                    print(f\"El producto {producto_usuario} no existe o está agotado\")\n",
    "\n",
    "        print(f\"Has finalizado la compra. El total de la compra es: {total_compra}€\")\n",
    "\n",
    "\n",
    "    def procesar_pago(self):\n",
    "\n",
    "        total = float(input(\"Ingrese la cantidad total a pagar: $\")) #La factura\n",
    "        cantidad_pago = float(input(\"Ingrese la cantidad de pago: $\")) #Nuestro dinero\n",
    "\n",
    "        try:     \n",
    "            cambio = cantidad_pago - total\n",
    "\n",
    "            if cambio >= 0:\n",
    "                    print(f\"Pago exitoso. Su cambio es: {cambio}$\")\n",
    "                    self.ventas_totales += total\n",
    "\n",
    "            else:\n",
    "                print(\"cantidad insuficiente. Por favor, proporcione la cantidad completa.\")\n",
    "                total = float(input(\"Ingrese la cantidad total a pagar: $\")) #La factura\n",
    "                cantidad_pago = float(input(\"Ingrese la cantidad de pago: $\")) #Nuestro dinero\n",
    "                cambio = cantidad_pago - total\n",
    "                if cambio >= 0:\n",
    "                    print(f\"Pago exitoso. Su cambio es: ${cambio}\")\n",
    "                    self.ventas_totales += total\n",
    "                # En este caso lo mejor sería aplicar un bucle while, pero el ejercicio nos pide un try-except\n",
    "        except ValueError:\n",
    "            \n",
    "            print(\"Error: Ingrese valores numéricos válidos.\")\n",
    "    \n",
    "    def agregar_cliente(self, nombre, email):\n",
    "        \n",
    "        if nombre not in self.clientes:\n",
    "              self.clientes[nombre] = {'email':email, 'compras':[]}\n",
    "              print(f'Cliente {nombre} y su {email} han sido agregados')\n",
    "              return self.clientes\n",
    "        else:\n",
    "             print(f'El cliente {nombre} ya existe')\n",
    "    \n",
    "    def ver_clientes(self):\n",
    "        for nombre, email in self.clientes.items():\n",
    "            print(f\"Nombre: {nombre}, Email: {email['email']}\")\n",
    "    \n",
    "    def registrar_compra(self, nombre_cliente, carrito):\n",
    "\n",
    "        if nombre_cliente in self.clientes:\n",
    "            total_compra = 0\n",
    "            for producto, info in carrito.items():\n",
    "                precio = info['precio']\n",
    "                cantidad = info['cantidad']\n",
    "                total_compra += precio * cantidad\n",
    "\n",
    "            compra = {'productos': carrito, 'total': total_compra}\n",
    "            self.clientes[nombre_cliente]['compras'].append(compra)\n",
    "            self.ventas_totales += total_compra\n",
    "            print(f\"Compra registrada con éxito para {nombre_cliente}. Total: {total_compra}$\")\n",
    "        else:\n",
    "            print(\"El cliente no está registrado.\")\n",
    "    \n",
    "    def ver_compras_cliente(self, nombre_cliente):\n",
    "        \n",
    "        total = 0\n",
    "        if nombre_cliente in self.clientes:\n",
    "            print(f\"Lista de compras del cliente: {nombre_cliente}\")\n",
    "            for compra in self.clientes[nombre_cliente]['compras']:\n",
    "                print(\"Compra:\")\n",
    "                for index, producto in enumerate(compra['productos']):\n",
    "                    importe_prod = producto['precio'] * producto['cantidad']\n",
    "                    total += importe_prod\n",
    "                    print(f\"Producto {index + 1}: {producto['nombre']}, precio: {producto['precio']}, cantidad: {producto['cantidad']} e importe: {importe_prod}$.\")\n",
    "            print(f\"El importe total gastado por el cliente '{nombre_cliente}' es de: {total}€\")\n",
    "        else:\n",
    "            print(\"El cliente no está registrado en la tienda.\")\n",
    "\n",
    "\n",
    "    def calcular_ventas_totales(self):\n",
    "    \n",
    "        print(f\"Ventas totales de la tienda: {self.ventas_totales}$\")\n",
    "\n",
    "\n"
   ]
  },
  {
   "cell_type": "code",
   "execution_count": 19,
   "metadata": {},
   "outputs": [],
   "source": [
    "tienda = Tiendaonline()"
   ]
  },
  {
   "cell_type": "code",
   "execution_count": 20,
   "metadata": {},
   "outputs": [
    {
     "name": "stdout",
     "output_type": "stream",
     "text": [
      "El producto 'camisa' se ha agregado al inventario con éxito.\n",
      "El inventario actual es: [{'nombre': 'camisa', 'precio': 30, 'cantidad': 40}]\n",
      "-------------------------------\n",
      "La cantidad y el precio de camisa se ha actualizado correctamente\n",
      "El inventario actual es: [{'nombre': 'camisa', 'precio': 30, 'cantidad': 80}]\n",
      "-------------------------------\n",
      "El producto 'zapatos' se ha agregado al inventario con éxito.\n",
      "El inventario actual es: [{'nombre': 'camisa', 'precio': 30, 'cantidad': 80}, {'nombre': 'zapatos', 'precio': 50, 'cantidad': 40}]\n",
      "-------------------------------\n",
      "El producto 'camiseta' se ha agregado al inventario con éxito.\n",
      "El inventario actual es: [{'nombre': 'camisa', 'precio': 30, 'cantidad': 80}, {'nombre': 'zapatos', 'precio': 50, 'cantidad': 40}, {'nombre': 'camiseta', 'precio': 20, 'cantidad': 50}]\n"
     ]
    }
   ],
   "source": [
    "tienda.agregar_producto('camisa', 30, 40)\n",
    "print('-------------------------------')\n",
    "tienda.agregar_producto('camisa', 30, 40) #Comprobamos si se actualiza correctamente la cantidad.\n",
    "print('-------------------------------')\n",
    "tienda.agregar_producto('zapatos', 50, 40)\n",
    "print('-------------------------------')\n",
    "tienda.agregar_producto('camiseta', 20, 50)\n"
   ]
  },
  {
   "cell_type": "code",
   "execution_count": 21,
   "metadata": {},
   "outputs": [
    {
     "name": "stdout",
     "output_type": "stream",
     "text": [
      "Nombre: camisa, Precio: 30$, Cantidad: 80\n",
      "Nombre: zapatos, Precio: 50$, Cantidad: 40\n",
      "Nombre: camiseta, Precio: 20$, Cantidad: 50\n"
     ]
    }
   ],
   "source": [
    "tienda.ver_inventario()"
   ]
  },
  {
   "cell_type": "code",
   "execution_count": 22,
   "metadata": {},
   "outputs": [
    {
     "name": "stdout",
     "output_type": "stream",
     "text": [
      "Nombre: camisa, Precio: 30€, Cantidad: 80\n",
      "----------------------\n",
      "tenis no se encuentra en el inventario\n"
     ]
    }
   ],
   "source": [
    "tienda.buscar_producto('camisa')\n",
    "print('----------------------')\n",
    "tienda.buscar_producto('tenis')"
   ]
  },
  {
   "cell_type": "code",
   "execution_count": 23,
   "metadata": {},
   "outputs": [
    {
     "name": "stdout",
     "output_type": "stream",
     "text": [
      "Se ha actualizado correctamente. La nueva cantidad de zapatos es 10\n",
      "El inventario actual es: [{'nombre': 'camisa', 'precio': 30, 'cantidad': 80}, {'nombre': 'zapatos', 'precio': 50, 'cantidad': 50}, {'nombre': 'camiseta', 'precio': 20, 'cantidad': 50}]\n",
      "-----------------------------\n",
      "tenis no se encuentra en el inventario\n"
     ]
    }
   ],
   "source": [
    "tienda.actualizar_stock('zapatos', 10)\n",
    "print('-----------------------------')\n",
    "tienda.actualizar_stock('tenis', 10)\n"
   ]
  },
  {
   "cell_type": "code",
   "execution_count": 24,
   "metadata": {},
   "outputs": [
    {
     "name": "stdout",
     "output_type": "stream",
     "text": [
      "El producto camiseta se ha eliminado correctamente\n",
      "-----------------------------\n",
      "El producto calcetines no se encuentra en el inventario\n"
     ]
    }
   ],
   "source": [
    "tienda.eliminar_producto('camiseta')\n",
    "print('-----------------------------')\n",
    "tienda.eliminar_producto('calcetines')\n"
   ]
  },
  {
   "cell_type": "code",
   "execution_count": 25,
   "metadata": {},
   "outputs": [
    {
     "name": "stdout",
     "output_type": "stream",
     "text": [
      "Valor total del inventario: 4900$\n"
     ]
    }
   ],
   "source": [
    "tienda.calcular_valor_inventario()"
   ]
  },
  {
   "cell_type": "code",
   "execution_count": 26,
   "metadata": {},
   "outputs": [
    {
     "name": "stdout",
     "output_type": "stream",
     "text": [
      "Nombre: camisa, Precio: 30$, Cantidad: 80\n",
      "Nombre: zapatos, Precio: 50$, Cantidad: 50\n"
     ]
    }
   ],
   "source": [
    "patron = r'[a-zA-Z]+'\n",
    "tienda.buscar_producto_regex(patron)"
   ]
  },
  {
   "cell_type": "code",
   "execution_count": 27,
   "metadata": {},
   "outputs": [
    {
     "name": "stdout",
     "output_type": "stream",
     "text": [
      "Se han añadido 1 unidades de zapatos al carrito\n",
      "Has finalizado la compra. El total de la compra es: 50.0€\n"
     ]
    }
   ],
   "source": [
    "tienda.realizar_compra()"
   ]
  },
  {
   "cell_type": "code",
   "execution_count": 28,
   "metadata": {},
   "outputs": [
    {
     "name": "stdout",
     "output_type": "stream",
     "text": [
      "Pago exitoso. Su cambio es: 999999000.0$\n"
     ]
    }
   ],
   "source": [
    "tienda.procesar_pago()"
   ]
  },
  {
   "cell_type": "code",
   "execution_count": 29,
   "metadata": {},
   "outputs": [
    {
     "name": "stdout",
     "output_type": "stream",
     "text": [
      "Cliente Juana y su juanita@gmail.com han sido agregados\n",
      "------------------------------------------------\n",
      "El cliente Juana ya existe\n",
      "------------------------------------------------\n",
      "Cliente Sergio y su sergin@gmail.com han sido agregados\n"
     ]
    },
    {
     "data": {
      "text/plain": [
       "{'Juana': {'email': 'juanita@gmail.com', 'compras': []},\n",
       " 'Sergio': {'email': 'sergin@gmail.com', 'compras': []}}"
      ]
     },
     "execution_count": 29,
     "metadata": {},
     "output_type": "execute_result"
    }
   ],
   "source": [
    "tienda.agregar_cliente('Juana', 'juanita@gmail.com')\n",
    "print('------------------------------------------------')\n",
    "tienda.agregar_cliente('Juana', 'juanita@gmail.com')\n",
    "print('------------------------------------------------')\n",
    "tienda.agregar_cliente('Sergio', 'sergin@gmail.com')"
   ]
  },
  {
   "cell_type": "code",
   "execution_count": 30,
   "metadata": {},
   "outputs": [
    {
     "name": "stdout",
     "output_type": "stream",
     "text": [
      "Nombre: Juana, Email: juanita@gmail.com\n",
      "Nombre: Sergio, Email: sergin@gmail.com\n"
     ]
    }
   ],
   "source": [
    "tienda.ver_clientes()"
   ]
  },
  {
   "cell_type": "code",
   "execution_count": 31,
   "metadata": {},
   "outputs": [
    {
     "name": "stdout",
     "output_type": "stream",
     "text": [
      "Compra registrada con éxito para Sergio. Total: 50$\n"
     ]
    }
   ],
   "source": [
    "carrito1 = {'zapatos': {'precio': 50, 'cantidad': 1}}\n",
    "tienda.registrar_compra('Sergio', carrito1)"
   ]
  },
  {
   "cell_type": "code",
   "execution_count": 32,
   "metadata": {},
   "outputs": [
    {
     "name": "stdout",
     "output_type": "stream",
     "text": [
      "Lista de compras del cliente: Juana\n",
      "El importe total gastado por el cliente 'Juana' es de: 0€\n",
      "-----------------------\n",
      "El cliente no está registrado en la tienda.\n"
     ]
    }
   ],
   "source": [
    "tienda.ver_compras_cliente('Juana')\n",
    "print('-----------------------')\n",
    "tienda.ver_compras_cliente('Noa')"
   ]
  },
  {
   "cell_type": "code",
   "execution_count": 33,
   "metadata": {},
   "outputs": [
    {
     "name": "stdout",
     "output_type": "stream",
     "text": [
      "Ventas totales de la tienda: 1050.0$\n"
     ]
    }
   ],
   "source": [
    "tienda.calcular_ventas_totales()"
   ]
  }
 ],
 "metadata": {
  "kernelspec": {
   "display_name": "Python 3",
   "language": "python",
   "name": "python3"
  },
  "language_info": {
   "codemirror_mode": {
    "name": "ipython",
    "version": 3
   },
   "file_extension": ".py",
   "mimetype": "text/x-python",
   "name": "python",
   "nbconvert_exporter": "python",
   "pygments_lexer": "ipython3",
   "version": "3.11.8"
  }
 },
 "nbformat": 4,
 "nbformat_minor": 2
}
